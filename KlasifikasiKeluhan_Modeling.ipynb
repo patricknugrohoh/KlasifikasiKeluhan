{
 "cells": [
  {
   "cell_type": "markdown",
   "metadata": {},
   "source": [
    "# Ekstraksi Fitur"
   ]
  },
  {
   "cell_type": "code",
   "execution_count": 1,
   "metadata": {},
   "outputs": [],
   "source": [
    "import pandas as pd\n",
    "\n",
    "from joblib import dump, load\n",
    "from sklearn.feature_extraction.text import CountVectorizer\n",
    "from sklearn.feature_extraction.text import TfidfVectorizer"
   ]
  },
  {
   "cell_type": "code",
   "execution_count": 2,
   "metadata": {},
   "outputs": [],
   "source": [
    "data = pd.read_csv('data/keluhan_processed.csv', encoding='ISO-8859-1')\n",
    "data = data[(data['Keluhan'] == 1) | (data['Respon'] == 1) | (data['Other'] == 1)]\n",
    "\n",
    "label = []\n",
    "for x in data.values:\n",
    "    if x[1] == 1:\n",
    "        label.append(1.0)\n",
    "    elif x[2] == 1:\n",
    "        label.append(2.0)\n",
    "    elif x[3] == 1:\n",
    "        label.append(3.0)\n",
    "\n",
    "data.insert(loc=1, column='Label', value=label)\n",
    "data = data.loc[:, 'TweetProcessed':'Label']\n",
    "\n",
    "X = data['TweetProcessed']\n",
    "y = data['Label']"
   ]
  },
  {
   "cell_type": "markdown",
   "metadata": {},
   "source": [
    "### Vektor dokumen (X1)"
   ]
  },
  {
   "cell_type": "code",
   "execution_count": 3,
   "metadata": {},
   "outputs": [
    {
     "data": {
      "text/plain": [
       "['model/vectorizer/vec1.joblib']"
      ]
     },
     "execution_count": 3,
     "metadata": {},
     "output_type": "execute_result"
    }
   ],
   "source": [
    "vectorizer = CountVectorizer(ngram_range=(2,2))\n",
    "X1 = vectorizer.fit_transform(X)\n",
    "dump(vectorizer, 'model/vectorizer/vec1.joblib')"
   ]
  },
  {
   "cell_type": "markdown",
   "metadata": {},
   "source": [
    "### Vektor TF IDF tanpa normalisasi (X2)"
   ]
  },
  {
   "cell_type": "code",
   "execution_count": 4,
   "metadata": {},
   "outputs": [
    {
     "data": {
      "text/plain": [
       "['model/vectorizer/vec2.joblib']"
      ]
     },
     "execution_count": 4,
     "metadata": {},
     "output_type": "execute_result"
    }
   ],
   "source": [
    "vectorizer = TfidfVectorizer(ngram_range=(2,2), norm=None)\n",
    "X2 = vectorizer.fit_transform(X)\n",
    "dump(vectorizer, 'model/vectorizer/vec2.joblib')"
   ]
  },
  {
   "cell_type": "markdown",
   "metadata": {},
   "source": [
    "### Vektor TF IDF dengan normalisasi (X3)"
   ]
  },
  {
   "cell_type": "code",
   "execution_count": 5,
   "metadata": {},
   "outputs": [
    {
     "data": {
      "text/plain": [
       "['model/vectorizer/vec3.joblib']"
      ]
     },
     "execution_count": 5,
     "metadata": {},
     "output_type": "execute_result"
    }
   ],
   "source": [
    "vectorizer = TfidfVectorizer(ngram_range=(2,2))\n",
    "X3 = vectorizer.fit_transform(X)\n",
    "dump(vectorizer, 'model/vectorizer/vec3.joblib')"
   ]
  },
  {
   "cell_type": "markdown",
   "metadata": {},
   "source": [
    "# _Modeling_"
   ]
  },
  {
   "cell_type": "code",
   "execution_count": 6,
   "metadata": {},
   "outputs": [],
   "source": [
    "from sklearn.metrics import f1_score\n",
    "from sklearn.metrics import accuracy_score\n",
    "from sklearn.model_selection import train_test_split\n",
    "from sklearn.neighbors import KNeighborsClassifier\n",
    "from sklearn.neural_network import MLPClassifier\n",
    "from sklearn.svm import LinearSVC\n",
    "from sklearn.tree import DecisionTreeClassifier\n",
    "\n",
    "X1_train, X1_test, y1_train, y1_test = train_test_split(X1, y, test_size=0.2, random_state=0)\n",
    "X2_train, X2_test, y2_train, y2_test = train_test_split(X2, y, test_size=0.2, random_state=1)\n",
    "X3_train, X3_test, y3_train, y3_test = train_test_split(X3, y, test_size=0.2, random_state=2)"
   ]
  },
  {
   "cell_type": "markdown",
   "metadata": {},
   "source": [
    "## _Decision tree model_"
   ]
  },
  {
   "cell_type": "code",
   "execution_count": 9,
   "metadata": {},
   "outputs": [],
   "source": [
    "tree_classifier = DecisionTreeClassifier(random_state=0)"
   ]
  },
  {
   "cell_type": "markdown",
   "metadata": {},
   "source": [
    "### Train: X1"
   ]
  },
  {
   "cell_type": "code",
   "execution_count": 20,
   "metadata": {},
   "outputs": [
    {
     "name": "stdout",
     "output_type": "stream",
     "text": [
      "[3. 3. 2. 1. 3. 3. 3. 3. 2. 1.]\n",
      "F1 score:  0.8590568569417046\n",
      "Accuracy:  0.8371010638297872\n"
     ]
    }
   ],
   "source": [
    "tree_classifier.fit(X1_train, y1_train)\n",
    "dump(tree_classifier, 'model/tree/tree1.joblib')\n",
    "\n",
    "prediction = tree_classifier.predict(X1_test)\n",
    "print(prediction[:10])\n",
    "print('F1 score: ', f1_score(prediction, y1_test, average='macro'))\n",
    "print('Accuracy: ', accuracy_score(prediction, y1_test))"
   ]
  },
  {
   "cell_type": "markdown",
   "metadata": {},
   "source": [
    "### Train: X2"
   ]
  },
  {
   "cell_type": "code",
   "execution_count": 21,
   "metadata": {},
   "outputs": [
    {
     "name": "stdout",
     "output_type": "stream",
     "text": [
      "[1. 3. 2. 1. 3. 3. 1. 3. 1. 3.]\n",
      "F1 score:  0.8533065656853438\n",
      "Accuracy:  0.8331117021276596\n"
     ]
    }
   ],
   "source": [
    "tree_classifier.fit(X2_train, y2_train)\n",
    "dump(tree_classifier, 'model/tree/tree2.joblib')\n",
    "\n",
    "prediction = tree_classifier.predict(X2_test)\n",
    "print(prediction[:10])\n",
    "print('F1 score: ', f1_score(prediction, y2_test, average='macro'))\n",
    "print('Accuracy: ', accuracy_score(prediction, y2_test))"
   ]
  },
  {
   "cell_type": "markdown",
   "metadata": {},
   "source": [
    "### Train: X3"
   ]
  },
  {
   "cell_type": "code",
   "execution_count": 22,
   "metadata": {},
   "outputs": [
    {
     "name": "stdout",
     "output_type": "stream",
     "text": [
      "[3. 3. 1. 3. 3. 3. 3. 2. 1. 3.]\n",
      "F1 score:  0.8396512615240778\n",
      "Accuracy:  0.8164893617021277\n"
     ]
    }
   ],
   "source": [
    "tree_classifier.fit(X3_train, y3_train)\n",
    "dump(tree_classifier, 'model/tree/tree3.joblib')\n",
    "\n",
    "prediction = tree_classifier.predict(X3_test)\n",
    "print(prediction[:10])\n",
    "print('F1 score: ', f1_score(prediction, y3_test, average='macro'))\n",
    "print('Accuracy: ', accuracy_score(prediction, y3_test))"
   ]
  },
  {
   "cell_type": "markdown",
   "metadata": {},
   "source": [
    "## _SVM model_"
   ]
  },
  {
   "cell_type": "code",
   "execution_count": 24,
   "metadata": {},
   "outputs": [],
   "source": [
    "svm_classifier = LinearSVC(random_state=0, max_iter=5000)"
   ]
  },
  {
   "cell_type": "markdown",
   "metadata": {},
   "source": [
    "### Train: X1"
   ]
  },
  {
   "cell_type": "code",
   "execution_count": 25,
   "metadata": {},
   "outputs": [
    {
     "name": "stdout",
     "output_type": "stream",
     "text": [
      "[3. 3. 2. 1. 3. 3. 3. 3. 2. 3.]\n",
      "F1 score:  0.8902226740284904\n",
      "Accuracy:  0.8710106382978723\n"
     ]
    }
   ],
   "source": [
    "svm_classifier.fit(X1_train, y1_train)\n",
    "dump(svm_classifier, 'model/svm/svm1.joblib')\n",
    "\n",
    "prediction = svm_classifier.predict(X1_test)\n",
    "print(prediction[:10])\n",
    "print('F1 score: ', f1_score(prediction, y1_test, average='macro'))\n",
    "print('Accuracy: ', accuracy_score(prediction, y1_test))"
   ]
  },
  {
   "cell_type": "markdown",
   "metadata": {},
   "source": [
    "### Train: X2"
   ]
  },
  {
   "cell_type": "code",
   "execution_count": 27,
   "metadata": {},
   "outputs": [
    {
     "name": "stdout",
     "output_type": "stream",
     "text": [
      "[1. 3. 2. 1. 3. 3. 3. 3. 1. 3.]\n",
      "F1 score:  0.873183262502148\n",
      "Accuracy:  0.8543882978723404\n"
     ]
    }
   ],
   "source": [
    "svm_classifier.fit(X2_train, y2_train)\n",
    "dump(svm_classifier, 'model/svm/svm2.joblib')\n",
    "\n",
    "prediction = svm_classifier.predict(X2_test)\n",
    "print(prediction[:10])\n",
    "print('F1 score: ', f1_score(prediction, y2_test, average='macro'))\n",
    "print('Accuracy: ', accuracy_score(prediction, y2_test))"
   ]
  },
  {
   "cell_type": "markdown",
   "metadata": {},
   "source": [
    "### Train: X3"
   ]
  },
  {
   "cell_type": "code",
   "execution_count": 29,
   "metadata": {},
   "outputs": [
    {
     "name": "stdout",
     "output_type": "stream",
     "text": [
      "[3. 3. 1. 3. 1. 3. 3. 2. 1. 3.]\n",
      "F1 score:  0.8864070103949535\n",
      "Accuracy:  0.8617021276595744\n"
     ]
    }
   ],
   "source": [
    "svm_classifier.fit(X3_train, y3_train)\n",
    "dump(svm_classifier, 'model/svm/svm3.joblib')\n",
    "\n",
    "prediction = svm_classifier.predict(X3_test)\n",
    "print(prediction[:10])\n",
    "print('F1 score: ', f1_score(prediction, y3_test, average='macro'))\n",
    "print('Accuracy: ', accuracy_score(prediction, y3_test))"
   ]
  },
  {
   "cell_type": "markdown",
   "metadata": {},
   "source": [
    "## _MLP model_"
   ]
  },
  {
   "cell_type": "code",
   "execution_count": 30,
   "metadata": {},
   "outputs": [],
   "source": [
    "mlp_classifier = MLPClassifier(hidden_layer_sizes=(50, 50), random_state=0)"
   ]
  },
  {
   "cell_type": "markdown",
   "metadata": {},
   "source": [
    "### Train: X1"
   ]
  },
  {
   "cell_type": "code",
   "execution_count": 31,
   "metadata": {},
   "outputs": [
    {
     "name": "stdout",
     "output_type": "stream",
     "text": [
      "[3. 3. 2. 1. 3. 3. 3. 3. 2. 1.]\n",
      "F1 score:  0.8853673145880037\n",
      "Accuracy:  0.8656914893617021\n"
     ]
    }
   ],
   "source": [
    "mlp_classifier.fit(X1_train, y1_train)\n",
    "dump(mlp_classifier, 'model/mlp/mlp1.joblib')\n",
    "\n",
    "prediction = mlp_classifier.predict(X1_test)\n",
    "print(prediction[:10])\n",
    "print('F1 score: ', f1_score(prediction, y1_test, average='macro'))\n",
    "print('Accuracy: ', accuracy_score(prediction, y1_test))"
   ]
  },
  {
   "cell_type": "markdown",
   "metadata": {},
   "source": [
    "### Train: X2"
   ]
  },
  {
   "cell_type": "code",
   "execution_count": 32,
   "metadata": {},
   "outputs": [
    {
     "name": "stdout",
     "output_type": "stream",
     "text": [
      "[1. 3. 2. 1. 3. 1. 3. 1. 1. 3.]\n",
      "F1 score:  0.8744004322517958\n",
      "Accuracy:  0.8517287234042553\n"
     ]
    }
   ],
   "source": [
    "mlp_classifier.fit(X2_train, y2_train)\n",
    "dump(mlp_classifier, 'model/mlp/mlp2.joblib')\n",
    "\n",
    "prediction = mlp_classifier.predict(X2_test)\n",
    "print(prediction[:10])\n",
    "print('F1 score: ', f1_score(prediction, y2_test, average='macro'))\n",
    "print('Accuracy: ', accuracy_score(prediction, y2_test))"
   ]
  },
  {
   "cell_type": "markdown",
   "metadata": {},
   "source": [
    "### Train: X3"
   ]
  },
  {
   "cell_type": "code",
   "execution_count": 33,
   "metadata": {},
   "outputs": [
    {
     "name": "stdout",
     "output_type": "stream",
     "text": [
      "[1. 3. 3. 3. 1. 3. 3. 2. 1. 3.]\n",
      "F1 score:  0.8884593533568904\n",
      "Accuracy:  0.8663563829787234\n"
     ]
    }
   ],
   "source": [
    "mlp_classifier.fit(X3_train, y3_train)\n",
    "dump(mlp_classifier, 'model/mlp/mlp3.joblib')\n",
    "\n",
    "prediction = mlp_classifier.predict(X3_test)\n",
    "print(prediction[:10])\n",
    "print('F1 score: ', f1_score(prediction, y3_test, average='macro'))\n",
    "print('Accuracy: ', accuracy_score(prediction, y3_test))"
   ]
  },
  {
   "cell_type": "code",
   "execution_count": null,
   "metadata": {},
   "outputs": [],
   "source": []
  }
 ],
 "metadata": {
  "kernelspec": {
   "display_name": "Python 3",
   "language": "python",
   "name": "python3"
  },
  "language_info": {
   "codemirror_mode": {
    "name": "ipython",
    "version": 3
   },
   "file_extension": ".py",
   "mimetype": "text/x-python",
   "name": "python",
   "nbconvert_exporter": "python",
   "pygments_lexer": "ipython3",
   "version": "3.6.6"
  }
 },
 "nbformat": 4,
 "nbformat_minor": 2
}

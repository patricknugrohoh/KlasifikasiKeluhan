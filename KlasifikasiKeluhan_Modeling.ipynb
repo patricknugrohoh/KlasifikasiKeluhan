{
 "cells": [
  {
   "cell_type": "markdown",
   "metadata": {},
   "source": [
    "# Ekstraksi Fitur"
   ]
  },
  {
   "cell_type": "code",
   "execution_count": 119,
   "metadata": {},
   "outputs": [],
   "source": [
    "import pandas as pd\n",
    "\n",
    "from sklearn.feature_extraction.text import CountVectorizer\n",
    "from sklearn.feature_extraction.text import TfidfVectorizer"
   ]
  },
  {
   "cell_type": "code",
   "execution_count": 120,
   "metadata": {},
   "outputs": [],
   "source": [
    "data = pd.read_csv('keluhan_processed.csv', encoding='ISO-8859-1')\n",
    "X = data['TweetProcessed']\n",
    "y = data['Keluhan']"
   ]
  },
  {
   "cell_type": "markdown",
   "metadata": {},
   "source": [
    "### Vektor dokumen (X1)"
   ]
  },
  {
   "cell_type": "code",
   "execution_count": 121,
   "metadata": {},
   "outputs": [],
   "source": [
    "vectorizer = CountVectorizer(ngram_range=(2,2))\n",
    "X1 = vectorizer.fit_transform(X)"
   ]
  },
  {
   "cell_type": "markdown",
   "metadata": {},
   "source": [
    "### Vektor TF IDF tanpa normalisasi (X2)"
   ]
  },
  {
   "cell_type": "code",
   "execution_count": 122,
   "metadata": {},
   "outputs": [],
   "source": [
    "vectorizer = TfidfVectorizer(ngram_range=(2,2), norm=None)\n",
    "X2 = vectorizer.fit_transform(X)"
   ]
  },
  {
   "cell_type": "markdown",
   "metadata": {},
   "source": [
    "### Vektor TF IDF dengan normalisasi (X3)"
   ]
  },
  {
   "cell_type": "code",
   "execution_count": 123,
   "metadata": {},
   "outputs": [],
   "source": [
    "vectorizer = TfidfVectorizer(ngram_range=(2,2))\n",
    "X3 = vectorizer.fit_transform(X)"
   ]
  },
  {
   "cell_type": "markdown",
   "metadata": {},
   "source": [
    "# _Modeling_"
   ]
  },
  {
   "cell_type": "code",
   "execution_count": 124,
   "metadata": {},
   "outputs": [],
   "source": [
    "from joblib import dump, load\n",
    "\n",
    "from sklearn.metrics import f1_score\n",
    "from sklearn.metrics import accuracy_score\n",
    "from sklearn.model_selection import train_test_split\n",
    "from sklearn.neighbors import KNeighborsClassifier\n",
    "from sklearn.neural_network import MLPClassifier\n",
    "from sklearn.svm import LinearSVC\n",
    "from sklearn.tree import DecisionTreeClassifier\n",
    "\n",
    "X1_train, X1_test, y1_train, y1_test = train_test_split(X1, y, test_size=0.4, random_state=0)\n",
    "X2_train, X2_test, y2_train, y2_test = train_test_split(X2, y, test_size=0.4, random_state=1)\n",
    "X3_train, X3_test, y3_train, y3_test = train_test_split(X3, y, test_size=0.4, random_state=2)"
   ]
  },
  {
   "cell_type": "markdown",
   "metadata": {},
   "source": [
    "## _Decision tree model_"
   ]
  },
  {
   "cell_type": "code",
   "execution_count": 125,
   "metadata": {},
   "outputs": [],
   "source": [
    "tree_classifier = DecisionTreeClassifier(random_state=0)"
   ]
  },
  {
   "cell_type": "markdown",
   "metadata": {},
   "source": [
    "### Train: X1"
   ]
  },
  {
   "cell_type": "code",
   "execution_count": 126,
   "metadata": {},
   "outputs": [
    {
     "name": "stdout",
     "output_type": "stream",
     "text": [
      "F1 score:  0.6994652406417112\n",
      "Accuracy:  0.8133510461640651\n"
     ]
    }
   ],
   "source": [
    "tree_classifier.fit(X1_train, y1_train)\n",
    "dump(tree_classifier, 'model/tree/tree1.joblib')\n",
    "\n",
    "prediction = tree_classifier.predict(X1_test)\n",
    "print('F1 score: ', f1_score(prediction, y1_test))\n",
    "print('Accuracy: ', accuracy_score(prediction, y1_test))"
   ]
  },
  {
   "cell_type": "markdown",
   "metadata": {},
   "source": [
    "### Train: X2"
   ]
  },
  {
   "cell_type": "code",
   "execution_count": 127,
   "metadata": {},
   "outputs": [
    {
     "name": "stdout",
     "output_type": "stream",
     "text": [
      "F1 score:  0.7233160621761657\n",
      "Accuracy:  0.8226502822982398\n"
     ]
    }
   ],
   "source": [
    "tree_classifier.fit(X2_train, y2_train)\n",
    "dump(tree_classifier, 'model/tree/tree2.joblib')\n",
    "\n",
    "prediction = tree_classifier.predict(X2_test)\n",
    "print('F1 score: ', f1_score(prediction, y2_test))\n",
    "print('Accuracy: ', accuracy_score(prediction, y2_test))"
   ]
  },
  {
   "cell_type": "markdown",
   "metadata": {},
   "source": [
    "### Train: X3"
   ]
  },
  {
   "cell_type": "code",
   "execution_count": 128,
   "metadata": {},
   "outputs": [
    {
     "name": "stdout",
     "output_type": "stream",
     "text": [
      "F1 score:  0.7170809095716552\n",
      "Accuracy:  0.8223181667220193\n"
     ]
    }
   ],
   "source": [
    "tree_classifier.fit(X3_train, y3_train)\n",
    "dump(tree_classifier, 'model/tree/tree3.joblib')\n",
    "\n",
    "prediction = tree_classifier.predict(X3_test)\n",
    "print('F1 score: ', f1_score(prediction, y3_test))\n",
    "print('Accuracy: ', accuracy_score(prediction, y3_test))"
   ]
  },
  {
   "cell_type": "markdown",
   "metadata": {},
   "source": [
    "## _SVM model_"
   ]
  },
  {
   "cell_type": "code",
   "execution_count": 129,
   "metadata": {},
   "outputs": [],
   "source": [
    "svm_classifier = LinearSVC(random_state=0, max_iter=5000)"
   ]
  },
  {
   "cell_type": "markdown",
   "metadata": {},
   "source": [
    "### Train: X1"
   ]
  },
  {
   "cell_type": "code",
   "execution_count": 130,
   "metadata": {},
   "outputs": [
    {
     "name": "stdout",
     "output_type": "stream",
     "text": [
      "F1 score:  0.7447033898305085\n",
      "Accuracy:  0.8399202922617071\n"
     ]
    }
   ],
   "source": [
    "svm_classifier.fit(X1_train, y1_train)\n",
    "dump(svm_classifier, 'model/svm/svm1.joblib')\n",
    "\n",
    "prediction = svm_classifier.predict(X1_test)\n",
    "print('F1 score: ', f1_score(prediction, y1_test))\n",
    "print('Accuracy: ', accuracy_score(prediction, y1_test))"
   ]
  },
  {
   "cell_type": "markdown",
   "metadata": {},
   "source": [
    "### Train: X2"
   ]
  },
  {
   "cell_type": "code",
   "execution_count": 131,
   "metadata": {},
   "outputs": [
    {
     "name": "stdout",
     "output_type": "stream",
     "text": [
      "F1 score:  0.7992370052455889\n",
      "Accuracy:  0.8601793424111591\n"
     ]
    },
    {
     "name": "stderr",
     "output_type": "stream",
     "text": [
      "c:\\program files\\python36\\lib\\site-packages\\sklearn\\svm\\base.py:931: ConvergenceWarning: Liblinear failed to converge, increase the number of iterations.\n",
      "  \"the number of iterations.\", ConvergenceWarning)\n"
     ]
    }
   ],
   "source": [
    "svm_classifier.fit(X2_train, y2_train)\n",
    "dump(svm_classifier, 'model/svm/svm2.joblib')\n",
    "\n",
    "prediction = svm_classifier.predict(X2_test)\n",
    "print('F1 score: ', f1_score(prediction, y2_test))\n",
    "print('Accuracy: ', accuracy_score(prediction, y2_test))"
   ]
  },
  {
   "cell_type": "markdown",
   "metadata": {},
   "source": [
    "### Train: X3"
   ]
  },
  {
   "cell_type": "code",
   "execution_count": 132,
   "metadata": {},
   "outputs": [
    {
     "name": "stdout",
     "output_type": "stream",
     "text": [
      "F1 score:  0.7937438905180841\n",
      "Accuracy:  0.8598472268349385\n"
     ]
    }
   ],
   "source": [
    "svm_classifier.fit(X3_train, y3_train)\n",
    "dump(svm_classifier, 'model/svm/svm3.joblib')\n",
    "\n",
    "prediction = svm_classifier.predict(X3_test)\n",
    "print('F1 score: ', f1_score(prediction, y3_test))\n",
    "print('Accuracy: ', accuracy_score(prediction, y3_test))"
   ]
  },
  {
   "cell_type": "markdown",
   "metadata": {},
   "source": [
    "## _MLP model_"
   ]
  },
  {
   "cell_type": "code",
   "execution_count": 133,
   "metadata": {},
   "outputs": [],
   "source": [
    "mlp_classifier = MLPClassifier(hidden_layer_sizes=(50, 50), random_state=0)"
   ]
  },
  {
   "cell_type": "markdown",
   "metadata": {},
   "source": [
    "### Train: X1"
   ]
  },
  {
   "cell_type": "code",
   "execution_count": 134,
   "metadata": {},
   "outputs": [
    {
     "name": "stdout",
     "output_type": "stream",
     "text": [
      "F1 score:  0.7086614173228346\n",
      "Accuracy:  0.8279641315177682\n"
     ]
    }
   ],
   "source": [
    "mlp_classifier.fit(X1_train, y1_train)\n",
    "dump(mlp_classifier, 'model/mlp/mlp1.joblib')\n",
    "\n",
    "prediction = mlp_classifier.predict(X1_test)\n",
    "print('F1 score: ', f1_score(prediction, y1_test))\n",
    "print('Accuracy: ', accuracy_score(prediction, y1_test))"
   ]
  },
  {
   "cell_type": "markdown",
   "metadata": {},
   "source": [
    "### Train: X2"
   ]
  },
  {
   "cell_type": "code",
   "execution_count": 135,
   "metadata": {},
   "outputs": [
    {
     "name": "stdout",
     "output_type": "stream",
     "text": [
      "F1 score:  0.8102658111824015\n",
      "Accuracy:  0.8625041514447027\n"
     ]
    }
   ],
   "source": [
    "mlp_classifier.fit(X2_train, y2_train)\n",
    "dump(mlp_classifier, 'model/mlp/mlp2.joblib')\n",
    "\n",
    "prediction = mlp_classifier.predict(X2_test)\n",
    "print('F1 score: ', f1_score(prediction, y2_test))\n",
    "print('Accuracy: ', accuracy_score(prediction, y2_test))"
   ]
  },
  {
   "cell_type": "markdown",
   "metadata": {},
   "source": [
    "### Train: X3"
   ]
  },
  {
   "cell_type": "code",
   "execution_count": 137,
   "metadata": {},
   "outputs": [
    {
     "name": "stdout",
     "output_type": "stream",
     "text": [
      "F1 score:  0.7983034872761545\n",
      "Accuracy:  0.8578545333776154\n"
     ]
    }
   ],
   "source": [
    "mlp_classifier.fit(X3_train, y3_train)\n",
    "dump(mlp_classifier, 'model/mlp/mlp3.joblib')\n",
    "\n",
    "prediction = mlp_classifier.predict(X3_test)\n",
    "print('F1 score: ', f1_score(prediction, y3_test))\n",
    "print('Accuracy: ', accuracy_score(prediction, y3_test))"
   ]
  },
  {
   "cell_type": "code",
   "execution_count": null,
   "metadata": {},
   "outputs": [],
   "source": []
  }
 ],
 "metadata": {
  "kernelspec": {
   "display_name": "Python 3",
   "language": "python",
   "name": "python3"
  },
  "language_info": {
   "codemirror_mode": {
    "name": "ipython",
    "version": 3
   },
   "file_extension": ".py",
   "mimetype": "text/x-python",
   "name": "python",
   "nbconvert_exporter": "python",
   "pygments_lexer": "ipython3",
   "version": "3.6.6"
  }
 },
 "nbformat": 4,
 "nbformat_minor": 2
}
